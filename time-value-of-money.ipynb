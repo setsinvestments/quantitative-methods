{
 "cells": [
  {
   "cell_type": "markdown",
   "id": "e902cc4a-e0f4-4584-81fe-66072e3a9b4b",
   "metadata": {},
   "source": [
    "# Time Value of Money\n",
    "\n",
    "## How are interest rates (IR) determined?\n",
    "\n",
    "| Components | Type | Explanation |\n",
    "| -- | -- | -- |\n",
    "| Risk Premium | Default Risk Premium | Can he pay me back? |\n",
    "| Risk Premium | Liquidity Risk Premium | How easy to convert this note to cash? |\n",
    "| Risk Premium | Maturity Risk Premium | How long does he take to pay me back? |\n",
    "| Nominal risk-free rate | Inflation Premium | How much inflation is expected during this period? |\n",
    "| Nominal risk-free rate | Real risk-free rate | What is the real-risk free rate of the same maturity? |\n",
    "   \n",
    "<details><summary>Interest Interpretation</summary>\n",
    "    <div style=\"text-align: center;\">\n",
    "      <img src=\"IR.jpg\" alt=\"Interest Interpretation\" width=\"300\" height=\"300\">\n",
    "    </div>\n",
    "</details>"
   ]
  },
  {
   "cell_type": "code",
   "execution_count": 1,
   "id": "7cab5fb9-75e4-4613-b0d9-f59ec924ce8a",
   "metadata": {},
   "outputs": [],
   "source": [
    "import numpy as np\n",
    "import pandas as pd\n",
    "import math\n",
    "import numpy_financial as npf"
   ]
  },
  {
   "cell_type": "code",
   "execution_count": 2,
   "id": "f8318bf7-9e64-4036-95ee-d76132ab6ab6",
   "metadata": {},
   "outputs": [
    {
     "data": {
      "text/plain": [
       "110.25"
      ]
     },
     "execution_count": 2,
     "metadata": {},
     "output_type": "execute_result"
    }
   ],
   "source": [
    "interest_rate = 0.05\n",
    "periods = 2\n",
    "present_value = 100\n",
    "\n",
    "# future value of single cash flow\n",
    "npf.fv(interest_rate, periods, 0, -present_value)"
   ]
  },
  {
   "cell_type": "markdown",
   "id": "3a1664da-7e48-40e1-9879-0e2b72c14ff2",
   "metadata": {},
   "source": [
    "## Effective Annual Rate\n",
    "\n",
    "How much interest is effectively being paid in a whole year if interest is paid more than once annually?"
   ]
  },
  {
   "cell_type": "code",
   "execution_count": 3,
   "id": "990c0c94-9e9c-439e-8e29-09f9d3c1937e",
   "metadata": {},
   "outputs": [],
   "source": [
    "def effective_annual_rate(nominal_rate, compounding_periods):\n",
    "    return (1 + nominal_rate / compounding_periods) ** compounding_periods - 1"
   ]
  },
  {
   "cell_type": "code",
   "execution_count": 4,
   "id": "c6a2321b-8c82-4214-8a32-8c69fddf15a6",
   "metadata": {},
   "outputs": [
    {
     "data": {
      "text/plain": [
       "0.05063861719824403"
      ]
     },
     "execution_count": 4,
     "metadata": {},
     "output_type": "execute_result"
    }
   ],
   "source": [
    "nominal_rate = 0.0495  # 5% nominal interest rate\n",
    "compounding_periods = 12  # Monthly compounding (12 times per year)\n",
    "\n",
    "# monthly compounding\n",
    "effective_annual_rate(nominal_rate, compounding_periods)"
   ]
  },
  {
   "cell_type": "code",
   "execution_count": 5,
   "id": "b11b647b-e9eb-4904-99f1-57459264e19d",
   "metadata": {},
   "outputs": [],
   "source": [
    "def continuous_compounding_ear(nominal_rate):\n",
    "    return math.exp(nominal_rate) - 1"
   ]
  },
  {
   "cell_type": "code",
   "execution_count": 7,
   "id": "e2f8dbb9-4546-4c14-a4e4-ce2da85b4adf",
   "metadata": {},
   "outputs": [
    {
     "data": {
      "text/plain": [
       "0.05074559221482433"
      ]
     },
     "execution_count": 7,
     "metadata": {},
     "output_type": "execute_result"
    }
   ],
   "source": [
    "continuous_compounding_ear(nominal_rate)"
   ]
  },
  {
   "cell_type": "code",
   "execution_count": null,
   "id": "73f2b55e-ead3-4c94-9b01-51d53950c16b",
   "metadata": {},
   "outputs": [],
   "source": []
  },
  {
   "cell_type": "code",
   "execution_count": null,
   "id": "31d115db-acbe-4175-936e-ba49e09dcb11",
   "metadata": {},
   "outputs": [],
   "source": []
  }
 ],
 "metadata": {
  "kernelspec": {
   "display_name": "Python 3 (ipykernel)",
   "language": "python",
   "name": "python3"
  },
  "language_info": {
   "codemirror_mode": {
    "name": "ipython",
    "version": 3
   },
   "file_extension": ".py",
   "mimetype": "text/x-python",
   "name": "python",
   "nbconvert_exporter": "python",
   "pygments_lexer": "ipython3",
   "version": "3.11.2"
  }
 },
 "nbformat": 4,
 "nbformat_minor": 5
}
