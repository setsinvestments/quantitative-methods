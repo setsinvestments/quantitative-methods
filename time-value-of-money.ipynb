{
 "cells": [
  {
   "cell_type": "markdown",
   "id": "e902cc4a-e0f4-4584-81fe-66072e3a9b4b",
   "metadata": {},
   "source": [
    "# Time Value of Money\n",
    "\n",
    "## How are interest rates (IR) determined?\n",
    "\n",
    "| Components | Type | Explanation |\n",
    "| -- | -- | -- |\n",
    "| Risk Premium | Default Risk Premium | Can he pay me back? |\n",
    "| Risk Premium | Liquidity Risk Premium | How easy to convert this note to cash? |\n",
    "| Risk Premium | Maturity Risk Premium | How long does he take to pay me back? |\n",
    "| Nominal risk-free rate | Inflation Premium | How much inflation is expected during this period? |\n",
    "| Nominal risk-free rate | Real risk-free rate | What is the real-risk free rate of the same maturity? |\n",
    "   \n",
    "<img src=\"IR.jpg\" alt=\"Interest Interpr\" width=\"300\" height=\"200\">\n"
   ]
  },
  {
   "cell_type": "code",
   "execution_count": null,
   "id": "7cab5fb9-75e4-4613-b0d9-f59ec924ce8a",
   "metadata": {},
   "outputs": [],
   "source": []
  }
 ],
 "metadata": {
  "kernelspec": {
   "display_name": "Python 3 (ipykernel)",
   "language": "python",
   "name": "python3"
  },
  "language_info": {
   "codemirror_mode": {
    "name": "ipython",
    "version": 3
   },
   "file_extension": ".py",
   "mimetype": "text/x-python",
   "name": "python",
   "nbconvert_exporter": "python",
   "pygments_lexer": "ipython3",
   "version": "3.11.2"
  }
 },
 "nbformat": 4,
 "nbformat_minor": 5
}
